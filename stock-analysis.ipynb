{
 "cells": [
  {
   "cell_type": "markdown",
   "metadata": {},
   "source": [
    "****Stock Analysis****"
   ]
  },
  {
   "cell_type": "code",
   "execution_count": 1,
   "metadata": {},
   "outputs": [],
   "source": [
    "import pandas as pd\n",
    "import seaborn as sns\n",
    "import numpy as np\n",
    "import matplotlib.pyplot as plt\n",
    "from scipy import stats\n",
    "from scipy.stats import norm, skew"
   ]
  },
  {
   "cell_type": "code",
   "execution_count": 2,
   "metadata": {},
   "outputs": [],
   "source": [
    "#df1 = pd.read_csv('5_minutes_WDO_2018-07-02_2018-08-30.csv')\n",
    "#df2 = pd.read_csv('5_minutes_WDO_2018-08-31_2018-08-31.csv')\n",
    "#df3 = pd.read_csv('WDO_2018-09-03_2018-09-28.csv')\n",
    "\n",
    "#frames = [df1, df2, df3]\n",
    "#result = pd.concat(frames)\n",
    "\n",
    "#data_frame = pd.read_csv('5_minutes_WDO_2018-07-02_2018-08-30.csv')\n",
    "#data_frame = pd.read_csv('WDO_2018-08-01_2018-08-31.csv')\n",
    "data_frame = pd.read_csv('WDO_2018-07-02_2019-01-24.csv')\n",
    "#data_frame = pd.read_csv('PETR4_2018-07-02_2019-01-24.csv')\n",
    "#data_frame = pd.read_csv('WDO_2018-07-02_2018-09-28.csv')\n",
    "#data_frame = result"
   ]
  },
  {
   "cell_type": "code",
   "execution_count": 3,
   "metadata": {},
   "outputs": [
    {
     "data": {
      "text/plain": [
       "Start                     34213\n",
       "End                       34213\n",
       "NegociatedOffersAmount    34213\n",
       "TotalTradedQuantity       34213\n",
       "RSIIndicator              34213\n",
       "SMAIndicator              34213\n",
       "EMAIndicator              34213\n",
       "UpperBollingerBand        34213\n",
       "LowerBollingerBand        34213\n",
       "MiddleBollingerBand       34213\n",
       "MACD                      34213\n",
       "AroonIndicator            34213\n",
       "NormalizedClosePrice      34213\n",
       "NormalizedOpenPrice       34213\n",
       "BuySignal                 34213\n",
       "dtype: int64"
      ]
     },
     "execution_count": 3,
     "metadata": {},
     "output_type": "execute_result"
    }
   ],
   "source": [
    "data_frame.count()"
   ]
  },
  {
   "cell_type": "code",
   "execution_count": 4,
   "metadata": {},
   "outputs": [
    {
     "data": {
      "text/plain": [
       "0.3728115043989127"
      ]
     },
     "execution_count": 4,
     "metadata": {},
     "output_type": "execute_result"
    }
   ],
   "source": [
    "len(data_frame[data_frame['BuySignal'] == 1].index)/len(data_frame.index)"
   ]
  },
  {
   "cell_type": "code",
   "execution_count": 5,
   "metadata": {},
   "outputs": [],
   "source": [
    "train_y = data_frame['BuySignal']\n",
    "train_x = data_frame.drop(['BuySignal'], axis=1)"
   ]
  },
  {
   "cell_type": "code",
   "execution_count": 6,
   "metadata": {},
   "outputs": [
    {
     "data": {
      "text/plain": [
       "Start                     34213\n",
       "End                       34213\n",
       "NegociatedOffersAmount    34213\n",
       "TotalTradedQuantity       34213\n",
       "RSIIndicator              34213\n",
       "SMAIndicator              34213\n",
       "EMAIndicator              34213\n",
       "UpperBollingerBand        34213\n",
       "LowerBollingerBand        34213\n",
       "MiddleBollingerBand       34213\n",
       "MACD                      34213\n",
       "AroonIndicator            34213\n",
       "NormalizedClosePrice      34213\n",
       "NormalizedOpenPrice       34213\n",
       "dtype: int64"
      ]
     },
     "execution_count": 6,
     "metadata": {},
     "output_type": "execute_result"
    }
   ],
   "source": [
    "train_x.count()"
   ]
  },
  {
   "cell_type": "code",
   "execution_count": 7,
   "metadata": {},
   "outputs": [
    {
     "data": {
      "text/html": [
       "<div>\n",
       "<style scoped>\n",
       "    .dataframe tbody tr th:only-of-type {\n",
       "        vertical-align: middle;\n",
       "    }\n",
       "\n",
       "    .dataframe tbody tr th {\n",
       "        vertical-align: top;\n",
       "    }\n",
       "\n",
       "    .dataframe thead th {\n",
       "        text-align: right;\n",
       "    }\n",
       "</style>\n",
       "<table border=\"1\" class=\"dataframe\">\n",
       "  <thead>\n",
       "    <tr style=\"text-align: right;\">\n",
       "      <th></th>\n",
       "      <th>Start</th>\n",
       "      <th>End</th>\n",
       "      <th>NegociatedOffersAmount</th>\n",
       "      <th>TotalTradedQuantity</th>\n",
       "      <th>RSIIndicator</th>\n",
       "      <th>SMAIndicator</th>\n",
       "      <th>EMAIndicator</th>\n",
       "      <th>UpperBollingerBand</th>\n",
       "      <th>LowerBollingerBand</th>\n",
       "      <th>MiddleBollingerBand</th>\n",
       "      <th>MACD</th>\n",
       "      <th>AroonIndicator</th>\n",
       "      <th>NormalizedClosePrice</th>\n",
       "      <th>NormalizedOpenPrice</th>\n",
       "      <th>BuySignal</th>\n",
       "    </tr>\n",
       "  </thead>\n",
       "  <tbody>\n",
       "    <tr>\n",
       "      <th>0</th>\n",
       "      <td>7/2/18 9:43:00 AM</td>\n",
       "      <td>7/2/18 9:44:00 AM</td>\n",
       "      <td>1975</td>\n",
       "      <td>4549</td>\n",
       "      <td>0.694444</td>\n",
       "      <td>2.200000</td>\n",
       "      <td>-26801.176275</td>\n",
       "      <td>7.687648</td>\n",
       "      <td>-3.287648</td>\n",
       "      <td>2.200000</td>\n",
       "      <td>2443.412082</td>\n",
       "      <td>33.333333</td>\n",
       "      <td>0.648649</td>\n",
       "      <td>0.810811</td>\n",
       "      <td>0</td>\n",
       "    </tr>\n",
       "    <tr>\n",
       "      <th>1</th>\n",
       "      <td>7/2/18 9:44:00 AM</td>\n",
       "      <td>7/2/18 9:45:00 AM</td>\n",
       "      <td>2167</td>\n",
       "      <td>4911</td>\n",
       "      <td>0.540541</td>\n",
       "      <td>3.300000</td>\n",
       "      <td>-26868.341741</td>\n",
       "      <td>8.548129</td>\n",
       "      <td>-1.948129</td>\n",
       "      <td>3.300000</td>\n",
       "      <td>2449.535429</td>\n",
       "      <td>26.666667</td>\n",
       "      <td>0.594595</td>\n",
       "      <td>0.648649</td>\n",
       "      <td>1</td>\n",
       "    </tr>\n",
       "    <tr>\n",
       "      <th>2</th>\n",
       "      <td>7/2/18 9:45:00 AM</td>\n",
       "      <td>7/2/18 9:46:00 AM</td>\n",
       "      <td>1368</td>\n",
       "      <td>3233</td>\n",
       "      <td>0.486486</td>\n",
       "      <td>1.766667</td>\n",
       "      <td>-26928.424023</td>\n",
       "      <td>7.096725</td>\n",
       "      <td>-3.563392</td>\n",
       "      <td>1.766667</td>\n",
       "      <td>2455.013016</td>\n",
       "      <td>-73.333333</td>\n",
       "      <td>0.675676</td>\n",
       "      <td>0.594595</td>\n",
       "      <td>1</td>\n",
       "    </tr>\n",
       "    <tr>\n",
       "      <th>3</th>\n",
       "      <td>7/2/18 9:46:00 AM</td>\n",
       "      <td>7/2/18 9:47:00 AM</td>\n",
       "      <td>1526</td>\n",
       "      <td>4013</td>\n",
       "      <td>0.538462</td>\n",
       "      <td>0.866667</td>\n",
       "      <td>-26981.871020</td>\n",
       "      <td>5.986190</td>\n",
       "      <td>-4.252857</td>\n",
       "      <td>0.866667</td>\n",
       "      <td>2459.885677</td>\n",
       "      <td>-73.333333</td>\n",
       "      <td>0.729730</td>\n",
       "      <td>0.675676</td>\n",
       "      <td>0</td>\n",
       "    </tr>\n",
       "    <tr>\n",
       "      <th>4</th>\n",
       "      <td>7/2/18 9:47:00 AM</td>\n",
       "      <td>7/2/18 9:48:00 AM</td>\n",
       "      <td>541</td>\n",
       "      <td>1713</td>\n",
       "      <td>0.560976</td>\n",
       "      <td>2.533333</td>\n",
       "      <td>-27027.324643</td>\n",
       "      <td>7.336110</td>\n",
       "      <td>-2.269444</td>\n",
       "      <td>2.533333</td>\n",
       "      <td>2464.029597</td>\n",
       "      <td>-73.333333</td>\n",
       "      <td>0.638889</td>\n",
       "      <td>0.729730</td>\n",
       "      <td>0</td>\n",
       "    </tr>\n",
       "  </tbody>\n",
       "</table>\n",
       "</div>"
      ],
      "text/plain": [
       "               Start                End  NegociatedOffersAmount  \\\n",
       "0  7/2/18 9:43:00 AM  7/2/18 9:44:00 AM                    1975   \n",
       "1  7/2/18 9:44:00 AM  7/2/18 9:45:00 AM                    2167   \n",
       "2  7/2/18 9:45:00 AM  7/2/18 9:46:00 AM                    1368   \n",
       "3  7/2/18 9:46:00 AM  7/2/18 9:47:00 AM                    1526   \n",
       "4  7/2/18 9:47:00 AM  7/2/18 9:48:00 AM                     541   \n",
       "\n",
       "   TotalTradedQuantity  RSIIndicator  SMAIndicator  EMAIndicator  \\\n",
       "0                 4549      0.694444      2.200000 -26801.176275   \n",
       "1                 4911      0.540541      3.300000 -26868.341741   \n",
       "2                 3233      0.486486      1.766667 -26928.424023   \n",
       "3                 4013      0.538462      0.866667 -26981.871020   \n",
       "4                 1713      0.560976      2.533333 -27027.324643   \n",
       "\n",
       "   UpperBollingerBand  LowerBollingerBand  MiddleBollingerBand         MACD  \\\n",
       "0            7.687648           -3.287648             2.200000  2443.412082   \n",
       "1            8.548129           -1.948129             3.300000  2449.535429   \n",
       "2            7.096725           -3.563392             1.766667  2455.013016   \n",
       "3            5.986190           -4.252857             0.866667  2459.885677   \n",
       "4            7.336110           -2.269444             2.533333  2464.029597   \n",
       "\n",
       "   AroonIndicator  NormalizedClosePrice  NormalizedOpenPrice  BuySignal  \n",
       "0       33.333333              0.648649             0.810811          0  \n",
       "1       26.666667              0.594595             0.648649          1  \n",
       "2      -73.333333              0.675676             0.594595          1  \n",
       "3      -73.333333              0.729730             0.675676          0  \n",
       "4      -73.333333              0.638889             0.729730          0  "
      ]
     },
     "execution_count": 7,
     "metadata": {},
     "output_type": "execute_result"
    }
   ],
   "source": [
    "#data_frame[\"TotalTradedQuantity\"].head()\n",
    "data_frame.head()"
   ]
  },
  {
   "cell_type": "code",
   "execution_count": 8,
   "metadata": {},
   "outputs": [
    {
     "data": {
      "text/plain": [
       "<matplotlib.axes._subplots.AxesSubplot at 0x7fa32f0e4518>"
      ]
     },
     "execution_count": 8,
     "metadata": {},
     "output_type": "execute_result"
    },
    {
     "data": {
      "image/png": "[encoded data removed]",
      "text/plain": [
       "<Figure size 1296x936 with 2 Axes>"
      ]
     },
     "metadata": {
      "needs_background": "light"
     },
     "output_type": "display_data"
    }
   ],
   "source": [
    "temp = data_frame\n",
    "\n",
    "correlation_matrix = temp.corr()\n",
    "f, ax = plt.subplots(figsize=(18, 13))\n",
    "sns.heatmap(correlation_matrix, annot=True)"
   ]
  },
  {
   "cell_type": "code",
   "execution_count": 9,
   "metadata": {},
   "outputs": [],
   "source": [
    "from sklearn.neural_network import MLPClassifier"
   ]
  },
  {
   "cell_type": "code",
   "execution_count": 10,
   "metadata": {},
   "outputs": [
    {
     "data": {
      "text/html": [
       "<div>\n",
       "<style scoped>\n",
       "    .dataframe tbody tr th:only-of-type {\n",
       "        vertical-align: middle;\n",
       "    }\n",
       "\n",
       "    .dataframe tbody tr th {\n",
       "        vertical-align: top;\n",
       "    }\n",
       "\n",
       "    .dataframe thead th {\n",
       "        text-align: right;\n",
       "    }\n",
       "</style>\n",
       "<table border=\"1\" class=\"dataframe\">\n",
       "  <thead>\n",
       "    <tr style=\"text-align: right;\">\n",
       "      <th></th>\n",
       "      <th>NegociatedOffersAmount</th>\n",
       "      <th>TotalTradedQuantity</th>\n",
       "      <th>RSIIndicator</th>\n",
       "      <th>SMAIndicator</th>\n",
       "      <th>EMAIndicator</th>\n",
       "      <th>UpperBollingerBand</th>\n",
       "      <th>LowerBollingerBand</th>\n",
       "      <th>MiddleBollingerBand</th>\n",
       "      <th>MACD</th>\n",
       "      <th>AroonIndicator</th>\n",
       "      <th>NormalizedClosePrice</th>\n",
       "      <th>NormalizedOpenPrice</th>\n",
       "    </tr>\n",
       "  </thead>\n",
       "  <tbody>\n",
       "    <tr>\n",
       "      <th>0</th>\n",
       "      <td>1975</td>\n",
       "      <td>4549</td>\n",
       "      <td>0.694444</td>\n",
       "      <td>2.200000</td>\n",
       "      <td>-26801.176275</td>\n",
       "      <td>7.687648</td>\n",
       "      <td>-3.287648</td>\n",
       "      <td>2.200000</td>\n",
       "      <td>2443.412082</td>\n",
       "      <td>33.333333</td>\n",
       "      <td>0.648649</td>\n",
       "      <td>0.810811</td>\n",
       "    </tr>\n",
       "    <tr>\n",
       "      <th>1</th>\n",
       "      <td>2167</td>\n",
       "      <td>4911</td>\n",
       "      <td>0.540541</td>\n",
       "      <td>3.300000</td>\n",
       "      <td>-26868.341741</td>\n",
       "      <td>8.548129</td>\n",
       "      <td>-1.948129</td>\n",
       "      <td>3.300000</td>\n",
       "      <td>2449.535429</td>\n",
       "      <td>26.666667</td>\n",
       "      <td>0.594595</td>\n",
       "      <td>0.648649</td>\n",
       "    </tr>\n",
       "    <tr>\n",
       "      <th>2</th>\n",
       "      <td>1368</td>\n",
       "      <td>3233</td>\n",
       "      <td>0.486486</td>\n",
       "      <td>1.766667</td>\n",
       "      <td>-26928.424023</td>\n",
       "      <td>7.096725</td>\n",
       "      <td>-3.563392</td>\n",
       "      <td>1.766667</td>\n",
       "      <td>2455.013016</td>\n",
       "      <td>-73.333333</td>\n",
       "      <td>0.675676</td>\n",
       "      <td>0.594595</td>\n",
       "    </tr>\n",
       "    <tr>\n",
       "      <th>3</th>\n",
       "      <td>1526</td>\n",
       "      <td>4013</td>\n",
       "      <td>0.538462</td>\n",
       "      <td>0.866667</td>\n",
       "      <td>-26981.871020</td>\n",
       "      <td>5.986190</td>\n",
       "      <td>-4.252857</td>\n",
       "      <td>0.866667</td>\n",
       "      <td>2459.885677</td>\n",
       "      <td>-73.333333</td>\n",
       "      <td>0.729730</td>\n",
       "      <td>0.675676</td>\n",
       "    </tr>\n",
       "    <tr>\n",
       "      <th>4</th>\n",
       "      <td>541</td>\n",
       "      <td>1713</td>\n",
       "      <td>0.560976</td>\n",
       "      <td>2.533333</td>\n",
       "      <td>-27027.324643</td>\n",
       "      <td>7.336110</td>\n",
       "      <td>-2.269444</td>\n",
       "      <td>2.533333</td>\n",
       "      <td>2464.029597</td>\n",
       "      <td>-73.333333</td>\n",
       "      <td>0.638889</td>\n",
       "      <td>0.729730</td>\n",
       "    </tr>\n",
       "  </tbody>\n",
       "</table>\n",
       "</div>"
      ],
      "text/plain": [
       "   NegociatedOffersAmount  TotalTradedQuantity  RSIIndicator  SMAIndicator  \\\n",
       "0                    1975                 4549      0.694444      2.200000   \n",
       "1                    2167                 4911      0.540541      3.300000   \n",
       "2                    1368                 3233      0.486486      1.766667   \n",
       "3                    1526                 4013      0.538462      0.866667   \n",
       "4                     541                 1713      0.560976      2.533333   \n",
       "\n",
       "   EMAIndicator  UpperBollingerBand  LowerBollingerBand  MiddleBollingerBand  \\\n",
       "0 -26801.176275            7.687648           -3.287648             2.200000   \n",
       "1 -26868.341741            8.548129           -1.948129             3.300000   \n",
       "2 -26928.424023            7.096725           -3.563392             1.766667   \n",
       "3 -26981.871020            5.986190           -4.252857             0.866667   \n",
       "4 -27027.324643            7.336110           -2.269444             2.533333   \n",
       "\n",
       "          MACD  AroonIndicator  NormalizedClosePrice  NormalizedOpenPrice  \n",
       "0  2443.412082       33.333333              0.648649             0.810811  \n",
       "1  2449.535429       26.666667              0.594595             0.648649  \n",
       "2  2455.013016      -73.333333              0.675676             0.594595  \n",
       "3  2459.885677      -73.333333              0.729730             0.675676  \n",
       "4  2464.029597      -73.333333              0.638889             0.729730  "
      ]
     },
     "execution_count": 10,
     "metadata": {},
     "output_type": "execute_result"
    }
   ],
   "source": [
    "y_train = data_frame[\"BuySignal\"]\n",
    "x_train = data_frame.drop([\"BuySignal\", \"Start\", \"End\"], axis=1)\n",
    "#x_train = data_frame.drop([\"BuySignal\", \"Start\", \"End\", \"NormalizedClosePrice\", \"NormalizedOpenPrice\", \"NormalizedMediumPrice\",\"NormalizedFirstTradePrice\", \"NormalizedMaxBuyOffer\", \"NormalizedMinSellOffer\" ], axis=1)\n",
    "x_train.head()"
   ]
  },
  {
   "cell_type": "code",
   "execution_count": 11,
   "metadata": {},
   "outputs": [
    {
     "data": {
      "text/html": [
       "<div>\n",
       "<style scoped>\n",
       "    .dataframe tbody tr th:only-of-type {\n",
       "        vertical-align: middle;\n",
       "    }\n",
       "\n",
       "    .dataframe tbody tr th {\n",
       "        vertical-align: top;\n",
       "    }\n",
       "\n",
       "    .dataframe thead th {\n",
       "        text-align: right;\n",
       "    }\n",
       "</style>\n",
       "<table border=\"1\" class=\"dataframe\">\n",
       "  <thead>\n",
       "    <tr style=\"text-align: right;\">\n",
       "      <th></th>\n",
       "      <th>NegociatedOffersAmount</th>\n",
       "      <th>TotalTradedQuantity</th>\n",
       "      <th>RSIIndicator</th>\n",
       "      <th>SMAIndicator</th>\n",
       "      <th>EMAIndicator</th>\n",
       "      <th>UpperBollingerBand</th>\n",
       "      <th>LowerBollingerBand</th>\n",
       "      <th>MiddleBollingerBand</th>\n",
       "      <th>MACD</th>\n",
       "      <th>AroonIndicator</th>\n",
       "      <th>NormalizedClosePrice</th>\n",
       "      <th>NormalizedOpenPrice</th>\n",
       "    </tr>\n",
       "  </thead>\n",
       "  <tbody>\n",
       "    <tr>\n",
       "      <th>0</th>\n",
       "      <td>7.588324</td>\n",
       "      <td>8.422663</td>\n",
       "      <td>0.694444</td>\n",
       "      <td>2.200000</td>\n",
       "      <td>-26801.176275</td>\n",
       "      <td>7.687648</td>\n",
       "      <td>-3.287648</td>\n",
       "      <td>2.200000</td>\n",
       "      <td>2443.412082</td>\n",
       "      <td>33.333333</td>\n",
       "      <td>0.648649</td>\n",
       "      <td>0.810811</td>\n",
       "    </tr>\n",
       "    <tr>\n",
       "      <th>1</th>\n",
       "      <td>7.681099</td>\n",
       "      <td>8.499233</td>\n",
       "      <td>0.540541</td>\n",
       "      <td>3.300000</td>\n",
       "      <td>-26868.341741</td>\n",
       "      <td>8.548129</td>\n",
       "      <td>-1.948129</td>\n",
       "      <td>3.300000</td>\n",
       "      <td>2449.535429</td>\n",
       "      <td>26.666667</td>\n",
       "      <td>0.594595</td>\n",
       "      <td>0.648649</td>\n",
       "    </tr>\n",
       "    <tr>\n",
       "      <th>2</th>\n",
       "      <td>7.221105</td>\n",
       "      <td>8.081166</td>\n",
       "      <td>0.486486</td>\n",
       "      <td>1.766667</td>\n",
       "      <td>-26928.424023</td>\n",
       "      <td>7.096725</td>\n",
       "      <td>-3.563392</td>\n",
       "      <td>1.766667</td>\n",
       "      <td>2455.013016</td>\n",
       "      <td>-73.333333</td>\n",
       "      <td>0.675676</td>\n",
       "      <td>0.594595</td>\n",
       "    </tr>\n",
       "    <tr>\n",
       "      <th>3</th>\n",
       "      <td>7.330405</td>\n",
       "      <td>8.297294</td>\n",
       "      <td>0.538462</td>\n",
       "      <td>0.866667</td>\n",
       "      <td>-26981.871020</td>\n",
       "      <td>5.986190</td>\n",
       "      <td>-4.252857</td>\n",
       "      <td>0.866667</td>\n",
       "      <td>2459.885677</td>\n",
       "      <td>-73.333333</td>\n",
       "      <td>0.729730</td>\n",
       "      <td>0.675676</td>\n",
       "    </tr>\n",
       "    <tr>\n",
       "      <th>4</th>\n",
       "      <td>6.293419</td>\n",
       "      <td>7.446001</td>\n",
       "      <td>0.560976</td>\n",
       "      <td>2.533333</td>\n",
       "      <td>-27027.324643</td>\n",
       "      <td>7.336110</td>\n",
       "      <td>-2.269444</td>\n",
       "      <td>2.533333</td>\n",
       "      <td>2464.029597</td>\n",
       "      <td>-73.333333</td>\n",
       "      <td>0.638889</td>\n",
       "      <td>0.729730</td>\n",
       "    </tr>\n",
       "  </tbody>\n",
       "</table>\n",
       "</div>"
      ],
      "text/plain": [
       "   NegociatedOffersAmount  TotalTradedQuantity  RSIIndicator  SMAIndicator  \\\n",
       "0                7.588324             8.422663      0.694444      2.200000   \n",
       "1                7.681099             8.499233      0.540541      3.300000   \n",
       "2                7.221105             8.081166      0.486486      1.766667   \n",
       "3                7.330405             8.297294      0.538462      0.866667   \n",
       "4                6.293419             7.446001      0.560976      2.533333   \n",
       "\n",
       "   EMAIndicator  UpperBollingerBand  LowerBollingerBand  MiddleBollingerBand  \\\n",
       "0 -26801.176275            7.687648           -3.287648             2.200000   \n",
       "1 -26868.341741            8.548129           -1.948129             3.300000   \n",
       "2 -26928.424023            7.096725           -3.563392             1.766667   \n",
       "3 -26981.871020            5.986190           -4.252857             0.866667   \n",
       "4 -27027.324643            7.336110           -2.269444             2.533333   \n",
       "\n",
       "          MACD  AroonIndicator  NormalizedClosePrice  NormalizedOpenPrice  \n",
       "0  2443.412082       33.333333              0.648649             0.810811  \n",
       "1  2449.535429       26.666667              0.594595             0.648649  \n",
       "2  2455.013016      -73.333333              0.675676             0.594595  \n",
       "3  2459.885677      -73.333333              0.729730             0.675676  \n",
       "4  2464.029597      -73.333333              0.638889             0.729730  "
      ]
     },
     "execution_count": 11,
     "metadata": {},
     "output_type": "execute_result"
    }
   ],
   "source": [
    "#x_train[\"NegociatedOffersAmount\"].apply(np.log)\n",
    "#x_train[\"TotalTradedQuantity\"].apply(np.log)\n",
    "x_train['NegociatedOffersAmount'] = np.log(x_train['NegociatedOffersAmount'])\n",
    "x_train['TotalTradedQuantity'] = np.log(x_train['TotalTradedQuantity'])\n",
    "x_train.head()"
   ]
  },
  {
   "cell_type": "code",
   "execution_count": 12,
   "metadata": {
    "scrolled": true
   },
   "outputs": [
    {
     "data": {
      "text/html": [
       "<div>\n",
       "<style scoped>\n",
       "    .dataframe tbody tr th:only-of-type {\n",
       "        vertical-align: middle;\n",
       "    }\n",
       "\n",
       "    .dataframe tbody tr th {\n",
       "        vertical-align: top;\n",
       "    }\n",
       "\n",
       "    .dataframe thead th {\n",
       "        text-align: right;\n",
       "    }\n",
       "</style>\n",
       "<table border=\"1\" class=\"dataframe\">\n",
       "  <thead>\n",
       "    <tr style=\"text-align: right;\">\n",
       "      <th></th>\n",
       "      <th>NegociatedOffersAmount</th>\n",
       "      <th>TotalTradedQuantity</th>\n",
       "      <th>RSIIndicator</th>\n",
       "      <th>SMAIndicator</th>\n",
       "      <th>EMAIndicator</th>\n",
       "      <th>UpperBollingerBand</th>\n",
       "      <th>LowerBollingerBand</th>\n",
       "      <th>MiddleBollingerBand</th>\n",
       "      <th>MACD</th>\n",
       "      <th>AroonIndicator</th>\n",
       "      <th>NormalizedClosePrice</th>\n",
       "      <th>NormalizedOpenPrice</th>\n",
       "    </tr>\n",
       "  </thead>\n",
       "  <tbody>\n",
       "    <tr>\n",
       "      <th>0</th>\n",
       "      <td>0.827871</td>\n",
       "      <td>0.800623</td>\n",
       "      <td>0.738326</td>\n",
       "      <td>0.078031</td>\n",
       "      <td>0.393291</td>\n",
       "      <td>0.145078</td>\n",
       "      <td>0.542897</td>\n",
       "      <td>0.078031</td>\n",
       "      <td>0.606709</td>\n",
       "      <td>0.678571</td>\n",
       "      <td>0.707617</td>\n",
       "      <td>0.810811</td>\n",
       "    </tr>\n",
       "    <tr>\n",
       "      <th>1</th>\n",
       "      <td>0.837992</td>\n",
       "      <td>0.807902</td>\n",
       "      <td>0.569743</td>\n",
       "      <td>0.117647</td>\n",
       "      <td>0.383402</td>\n",
       "      <td>0.162252</td>\n",
       "      <td>0.580011</td>\n",
       "      <td>0.117647</td>\n",
       "      <td>0.616598</td>\n",
       "      <td>0.642857</td>\n",
       "      <td>0.648649</td>\n",
       "      <td>0.648649</td>\n",
       "    </tr>\n",
       "    <tr>\n",
       "      <th>2</th>\n",
       "      <td>0.787808</td>\n",
       "      <td>0.768162</td>\n",
       "      <td>0.510533</td>\n",
       "      <td>0.062425</td>\n",
       "      <td>0.374557</td>\n",
       "      <td>0.133284</td>\n",
       "      <td>0.535257</td>\n",
       "      <td>0.062425</td>\n",
       "      <td>0.625443</td>\n",
       "      <td>0.107143</td>\n",
       "      <td>0.737101</td>\n",
       "      <td>0.594595</td>\n",
       "    </tr>\n",
       "    <tr>\n",
       "      <th>3</th>\n",
       "      <td>0.799732</td>\n",
       "      <td>0.788706</td>\n",
       "      <td>0.567465</td>\n",
       "      <td>0.030012</td>\n",
       "      <td>0.366688</td>\n",
       "      <td>0.111120</td>\n",
       "      <td>0.516154</td>\n",
       "      <td>0.030012</td>\n",
       "      <td>0.633312</td>\n",
       "      <td>0.107143</td>\n",
       "      <td>0.796069</td>\n",
       "      <td>0.675676</td>\n",
       "    </tr>\n",
       "    <tr>\n",
       "      <th>4</th>\n",
       "      <td>0.686599</td>\n",
       "      <td>0.707786</td>\n",
       "      <td>0.592127</td>\n",
       "      <td>0.090036</td>\n",
       "      <td>0.359996</td>\n",
       "      <td>0.138062</td>\n",
       "      <td>0.571108</td>\n",
       "      <td>0.090036</td>\n",
       "      <td>0.640004</td>\n",
       "      <td>0.107143</td>\n",
       "      <td>0.696970</td>\n",
       "      <td>0.729730</td>\n",
       "    </tr>\n",
       "  </tbody>\n",
       "</table>\n",
       "</div>"
      ],
      "text/plain": [
       "   NegociatedOffersAmount  TotalTradedQuantity  RSIIndicator  SMAIndicator  \\\n",
       "0                0.827871             0.800623      0.738326      0.078031   \n",
       "1                0.837992             0.807902      0.569743      0.117647   \n",
       "2                0.787808             0.768162      0.510533      0.062425   \n",
       "3                0.799732             0.788706      0.567465      0.030012   \n",
       "4                0.686599             0.707786      0.592127      0.090036   \n",
       "\n",
       "   EMAIndicator  UpperBollingerBand  LowerBollingerBand  MiddleBollingerBand  \\\n",
       "0      0.393291            0.145078            0.542897             0.078031   \n",
       "1      0.383402            0.162252            0.580011             0.117647   \n",
       "2      0.374557            0.133284            0.535257             0.062425   \n",
       "3      0.366688            0.111120            0.516154             0.030012   \n",
       "4      0.359996            0.138062            0.571108             0.090036   \n",
       "\n",
       "       MACD  AroonIndicator  NormalizedClosePrice  NormalizedOpenPrice  \n",
       "0  0.606709        0.678571              0.707617             0.810811  \n",
       "1  0.616598        0.642857              0.648649             0.648649  \n",
       "2  0.625443        0.107143              0.737101             0.594595  \n",
       "3  0.633312        0.107143              0.796069             0.675676  \n",
       "4  0.640004        0.107143              0.696970             0.729730  "
      ]
     },
     "execution_count": 12,
     "metadata": {},
     "output_type": "execute_result"
    }
   ],
   "source": [
    "from sklearn.model_selection import cross_val_score\n",
    "from sklearn.preprocessing import MinMaxScaler\n",
    "scaler = MinMaxScaler()\n",
    "\n",
    "x_train_scaled = scaler.fit_transform(x_train)\n",
    "x_train = pd.DataFrame(x_train_scaled, index=x_train.index, columns=x_train.columns)\n",
    "x_train.head()"
   ]
  },
  {
   "cell_type": "code",
   "execution_count": 13,
   "metadata": {},
   "outputs": [],
   "source": [
    "def perf_measure(y_actual, y_hat):\n",
    "    TP = 0\n",
    "    FP = 0\n",
    "    TN = 0\n",
    "    FN = 0\n",
    "\n",
    "    for i in range(len(y_hat)): \n",
    "        if y_actual[i]==y_hat[i]==1:\n",
    "           TP += 1\n",
    "        if y_hat[i]==1 and y_actual[i]!=y_hat[i]:\n",
    "           FP += 1\n",
    "        if y_actual[i]==y_hat[i]==0:\n",
    "           TN += 1\n",
    "        if y_hat[i]==0 and y_actual[i]!=y_hat[i]:\n",
    "           FN += 1\n",
    "\n",
    "    return(TP, FP, TN, FN)"
   ]
  },
  {
   "cell_type": "code",
   "execution_count": 14,
   "metadata": {},
   "outputs": [
    {
     "data": {
      "text/plain": [
       "array([0.50309243, 0.50300771, 0.50164153, 0.53475811, 0.51253918,\n",
       "       0.5143892 , 0.52157265, 0.5046273 , 0.50783765, 0.50439874])"
      ]
     },
     "execution_count": 14,
     "metadata": {},
     "output_type": "execute_result"
    }
   ],
   "source": [
    "mlp = MLPClassifier(hidden_layer_sizes=[100], max_iter=1000)\n",
    "cross_val_score(mlp, x_train, y_train, scoring = 'balanced_accuracy', cv=10)"
   ]
  },
  {
   "cell_type": "code",
   "execution_count": 15,
   "metadata": {},
   "outputs": [
    {
     "name": "stderr",
     "output_type": "stream",
     "text": [
      "/home/lschlee/.conda/envs/stock-analysis/lib/python3.7/site-packages/sklearn/linear_model/logistic.py:433: FutureWarning: Default solver will be changed to 'lbfgs' in 0.22. Specify a solver to silence this warning.\n",
      "  FutureWarning)\n",
      "/home/lschlee/.conda/envs/stock-analysis/lib/python3.7/site-packages/sklearn/linear_model/logistic.py:433: FutureWarning: Default solver will be changed to 'lbfgs' in 0.22. Specify a solver to silence this warning.\n",
      "  FutureWarning)\n",
      "/home/lschlee/.conda/envs/stock-analysis/lib/python3.7/site-packages/sklearn/linear_model/logistic.py:433: FutureWarning: Default solver will be changed to 'lbfgs' in 0.22. Specify a solver to silence this warning.\n",
      "  FutureWarning)\n",
      "/home/lschlee/.conda/envs/stock-analysis/lib/python3.7/site-packages/sklearn/linear_model/logistic.py:433: FutureWarning: Default solver will be changed to 'lbfgs' in 0.22. Specify a solver to silence this warning.\n",
      "  FutureWarning)\n"
     ]
    },
    {
     "name": "stdout",
     "output_type": "stream",
     "text": [
      "[0.50909129 0.51541476 0.52428748 0.51196491 0.51150891]\n"
     ]
    },
    {
     "name": "stderr",
     "output_type": "stream",
     "text": [
      "/home/lschlee/.conda/envs/stock-analysis/lib/python3.7/site-packages/sklearn/linear_model/logistic.py:433: FutureWarning: Default solver will be changed to 'lbfgs' in 0.22. Specify a solver to silence this warning.\n",
      "  FutureWarning)\n"
     ]
    }
   ],
   "source": [
    "from sklearn.linear_model import LogisticRegression\n",
    "from sklearn.svm import LinearSVC\n",
    "\n",
    "log_reg = LogisticRegression(C=1000)\n",
    "#svc = LinearSVC(C=100, max_iter=1000000)\n",
    "\n",
    "print(cross_val_score(log_reg, x_train, y_train, scoring = 'balanced_accuracy', cv=5))\n",
    "#print(cross_val_score(svc, x_train, y_train, scoring = 'balanced_accuracy', cv=5))"
   ]
  },
  {
   "cell_type": "code",
   "execution_count": 43,
   "metadata": {},
   "outputs": [
    {
     "name": "stdout",
     "output_type": "stream",
     "text": [
      "0.5388405797101449\n",
      "0.526231884057971\n"
     ]
    },
    {
     "name": "stderr",
     "output_type": "stream",
     "text": [
      "/home/lschlee/.conda/envs/stock-analysis/lib/python3.7/site-packages/sklearn/linear_model/logistic.py:433: FutureWarning: Default solver will be changed to 'lbfgs' in 0.22. Specify a solver to silence this warning.\n",
      "  FutureWarning)\n"
     ]
    }
   ],
   "source": [
    "minRange = 0\n",
    "maxRange = 34000\n",
    "newMlp = MLPClassifier(hidden_layer_sizes=[100], max_iter=1000)\n",
    "newMlp.fit(x_train[minRange:maxRange], y_train[minRange:maxRange])\n",
    "y_predict = newMlp.predict(x_train[maxRange:])\n",
    "\n",
    "from sklearn.metrics import balanced_accuracy_score\n",
    "print(balanced_accuracy_score(y_train[maxRange:], y_predict))\n",
    "\n",
    "newLogReg = LogisticRegression(C=1000)\n",
    "newLogReg.fit(x_train[:maxRange], y_train[:maxRange])\n",
    "y_predict = newLogReg.predict(x_train[maxRange:])\n",
    "print(balanced_accuracy_score(y_train[maxRange:], y_predict))\n",
    "\n",
    "#newSvc = LinearSVC(C=100, max_iter=1000000)\n",
    "#newSvc.fit(x_train[:maxRange], y_train[:maxRange])\n",
    "#y_predict = newSvc.predict(x_train[maxRange:])\n",
    "#print(balanced_accuracy_score(y_train[maxRange:], y_predict))\n"
   ]
  },
  {
   "cell_type": "code",
   "execution_count": 41,
   "metadata": {},
   "outputs": [],
   "source": [
    "data_frame.to_csv('all-data-ever.csv')"
   ]
  },
  {
   "cell_type": "code",
   "execution_count": 18,
   "metadata": {},
   "outputs": [
    {
     "name": "stderr",
     "output_type": "stream",
     "text": [
      "/home/lschlee/.conda/envs/stock-analysis/lib/python3.7/site-packages/sklearn/model_selection/_split.py:2053: FutureWarning: You should specify a value for 'cv' instead of relying on the default value. The default value will change from 3 to 5 in version 0.22.\n",
      "  warnings.warn(CV_WARNING, FutureWarning)\n"
     ]
    },
    {
     "data": {
      "text/plain": [
       "array([0.51065076, 0.51287329, 0.50193954])"
      ]
     },
     "execution_count": 18,
     "metadata": {},
     "output_type": "execute_result"
    }
   ],
   "source": [
    "from sklearn.feature_selection import SelectPercentile\n",
    "select = SelectPercentile(percentile=50)\n",
    "\n",
    "\n",
    "select.fit(x_train, y_train)\n",
    "# transform training set\n",
    "X_train_selected = select.transform(x_train)\n",
    "\n",
    "columns = np.asarray(x_train.columns.values)\n",
    "support = np.asarray(select.get_support())\n",
    "columns_with_support = columns[support]\n",
    "\n",
    "mlp = MLPClassifier(hidden_layer_sizes=[100])\n",
    "scores = cross_val_score(mlp, X_train_selected, y_train, scoring = 'balanced_accuracy')\n",
    "\n",
    "scores"
   ]
  },
  {
   "cell_type": "code",
   "execution_count": 19,
   "metadata": {},
   "outputs": [
    {
     "data": {
      "text/plain": [
       "array(['RSIIndicator', 'SMAIndicator', 'UpperBollingerBand',\n",
       "       'LowerBollingerBand', 'MiddleBollingerBand',\n",
       "       'NormalizedClosePrice'], dtype=object)"
      ]
     },
     "execution_count": 19,
     "metadata": {},
     "output_type": "execute_result"
    }
   ],
   "source": [
    "columns_with_support"
   ]
  },
  {
   "cell_type": "code",
   "execution_count": 20,
   "metadata": {},
   "outputs": [
    {
     "data": {
      "text/plain": [
       "array(['NegociatedOffersAmount', 'TotalTradedQuantity', 'EMAIndicator',\n",
       "       'MACD', 'AroonIndicator', 'NormalizedOpenPrice'], dtype=object)"
      ]
     },
     "execution_count": 20,
     "metadata": {},
     "output_type": "execute_result"
    }
   ],
   "source": [
    "columns_without_support = columns[np.invert(support)]\n",
    "columns_without_support"
   ]
  },
  {
   "cell_type": "code",
   "execution_count": 21,
   "metadata": {},
   "outputs": [
    {
     "name": "stderr",
     "output_type": "stream",
     "text": [
      "/home/lschlee/.conda/envs/stock-analysis/lib/python3.7/site-packages/sklearn/model_selection/_split.py:2053: FutureWarning: You should specify a value for 'cv' instead of relying on the default value. The default value will change from 3 to 5 in version 0.22.\n",
      "  warnings.warn(CV_WARNING, FutureWarning)\n",
      "/home/lschlee/.conda/envs/stock-analysis/lib/python3.7/site-packages/sklearn/linear_model/logistic.py:433: FutureWarning: Default solver will be changed to 'lbfgs' in 0.22. Specify a solver to silence this warning.\n",
      "  FutureWarning)\n",
      "/home/lschlee/.conda/envs/stock-analysis/lib/python3.7/site-packages/sklearn/linear_model/logistic.py:433: FutureWarning: Default solver will be changed to 'lbfgs' in 0.22. Specify a solver to silence this warning.\n",
      "  FutureWarning)\n"
     ]
    },
    {
     "name": "stdout",
     "output_type": "stream",
     "text": [
      "[0.5098636  0.52227325 0.50929849]\n"
     ]
    },
    {
     "name": "stderr",
     "output_type": "stream",
     "text": [
      "/home/lschlee/.conda/envs/stock-analysis/lib/python3.7/site-packages/sklearn/linear_model/logistic.py:433: FutureWarning: Default solver will be changed to 'lbfgs' in 0.22. Specify a solver to silence this warning.\n",
      "  FutureWarning)\n"
     ]
    }
   ],
   "source": [
    "log_reg = LogisticRegression(C=1000)\n",
    "\n",
    "print(cross_val_score(log_reg, X_train_selected, y_train, scoring = 'balanced_accuracy'))"
   ]
  },
  {
   "cell_type": "code",
   "execution_count": 22,
   "metadata": {},
   "outputs": [
    {
     "name": "stdout",
     "output_type": "stream",
     "text": [
      "Univariate Statistics: Columns selected\n",
      "['RSIIndicator' 'SMAIndicator' 'UpperBollingerBand' 'LowerBollingerBand'\n",
      " 'MiddleBollingerBand' 'NormalizedClosePrice']\n",
      "Univariate Statistics: Columns without support\n",
      "['NegociatedOffersAmount' 'TotalTradedQuantity' 'EMAIndicator' 'MACD'\n",
      " 'AroonIndicator' 'NormalizedOpenPrice']\n"
     ]
    }
   ],
   "source": [
    "print ('Univariate Statistics: Columns selected')\n",
    "print(columns_with_support)\n",
    "print ('Univariate Statistics: Columns without support')\n",
    "print(columns_without_support)\n",
    "\n",
    "from sklearn.feature_selection import SelectFromModel\n",
    "from sklearn.ensemble import RandomForestClassifier\n",
    "select = SelectFromModel(RandomForestClassifier(n_estimators=100, random_state=42),threshold=\"median\")\n",
    "\n",
    "select.fit(x_train, y_train)\n",
    "# transform training set\n",
    "X_train_selected = select.transform(x_train)\n",
    "\n",
    "columns = np.asarray(x_train.columns.values)\n",
    "support = np.asarray(select.get_support())\n",
    "columns_with_support = columns[support]\n",
    "columns_without_support = columns[np.invert(support)]"
   ]
  },
  {
   "cell_type": "code",
   "execution_count": 23,
   "metadata": {},
   "outputs": [
    {
     "name": "stdout",
     "output_type": "stream",
     "text": [
      "Model-Based Feature Selection: Columns selected\n",
      "['NegociatedOffersAmount' 'TotalTradedQuantity' 'RSIIndicator'\n",
      " 'UpperBollingerBand' 'LowerBollingerBand' 'MACD']\n",
      "Model-Based Feature Selection: Columns without support\n",
      "['SMAIndicator' 'EMAIndicator' 'MiddleBollingerBand' 'AroonIndicator'\n",
      " 'NormalizedClosePrice' 'NormalizedOpenPrice']\n"
     ]
    }
   ],
   "source": [
    "print ('Model-Based Feature Selection: Columns selected')\n",
    "print(columns_with_support)\n",
    "print ('Model-Based Feature Selection: Columns without support')\n",
    "print(columns_without_support)"
   ]
  },
  {
   "cell_type": "code",
   "execution_count": null,
   "metadata": {},
   "outputs": [],
   "source": []
  },
  {
   "cell_type": "code",
   "execution_count": null,
   "metadata": {},
   "outputs": [],
   "source": []
  }
 ],
 "metadata": {
  "kernelspec": {
   "display_name": "Python 3",
   "language": "python",
   "name": "python3"
  },
  "language_info": {
   "codemirror_mode": {
    "name": "ipython",
    "version": 3
   },
   "file_extension": ".py",
   "mimetype": "text/x-python",
   "name": "python",
   "nbconvert_exporter": "python",
   "pygments_lexer": "ipython3",
   "version": "3.7.2"
  }
 },
 "nbformat": 4,
 "nbformat_minor": 2
}
